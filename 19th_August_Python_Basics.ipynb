{
 "cells": [
  {
   "cell_type": "code",
   "execution_count": 2,
   "id": "1ed7a9bf-1f80-4a8a-a1b0-886d9127ca1a",
   "metadata": {},
   "outputs": [
    {
     "name": "stdout",
     "output_type": "stream",
     "text": [
      "before swapping\n",
      "x= 15\n",
      "y= 10\n",
      "After swapping:\n",
      "x = 10\n",
      "y = 15\n"
     ]
    }
   ],
   "source": [
    "# Declare two variables and assign them integer values\n",
    "x = 15\n",
    "y = 10\n",
    "#before value of x and y\n",
    "print(\"before swapping\")\n",
    "print(\"x=\",x)\n",
    "print(\"y=\",y)\n",
    "# Swap the values of x and y without a temporary variable\n",
    "# Step 1: Add x and y and store the result in x\n",
    "x = x + y\n",
    "\n",
    "# Step 2: Subtract the original value of y from x and store the result in y\n",
    "y = x - y\n",
    "\n",
    "# Step 3: Subtract the original value of x from y and store the result in x\n",
    "x = x - y\n",
    "\n",
    "# Print the swapped values\n",
    "print(\"After swapping:\")\n",
    "print(\"x =\", x)\n",
    "print(\"y =\", y)\n"
   ]
  },
  {
   "cell_type": "code",
   "execution_count": 3,
   "id": "2e0af496-2a14-4ffc-80bb-5cda12fb4d50",
   "metadata": {},
   "outputs": [
    {
     "name": "stdin",
     "output_type": "stream",
     "text": [
      "Enter the length of the rectangle:  5\n",
      "Enter the width of the rectangle:  5\n"
     ]
    },
    {
     "name": "stdout",
     "output_type": "stream",
     "text": [
      "The area of the rectangle is: 25.0\n"
     ]
    }
   ],
   "source": [
    "# Get the length and width from the user\n",
    "length = float(input(\"Enter the length of the rectangle: \"))\n",
    "width = float(input(\"Enter the width of the rectangle: \"))\n",
    "\n",
    "# Calculate the area of the rectangle\n",
    "area = length * width\n",
    "\n",
    "# Display the calculated area\n",
    "print(\"The area of the rectangle is:\", area)\n"
   ]
  },
  {
   "cell_type": "code",
   "execution_count": 4,
   "id": "b7112fde-39f9-4b70-9792-a5ae005a3c8b",
   "metadata": {},
   "outputs": [
    {
     "name": "stdin",
     "output_type": "stream",
     "text": [
      "Enter the temperature in Celsius:  5\n"
     ]
    },
    {
     "name": "stdout",
     "output_type": "stream",
     "text": [
      "The temperature in Fahrenheit is: 41.0\n"
     ]
    }
   ],
   "source": [
    "# Get the temperature in Celsius from the user\n",
    "celsius = float(input(\"Enter the temperature in Celsius: \"))\n",
    "\n",
    "# Convert Celsius to Fahrenheit\n",
    "fahrenheit = (celsius * 9/5) + 32\n",
    "\n",
    "# Display the temperature in Fahrenheit\n",
    "print(\"The temperature in Fahrenheit is:\", fahrenheit)\n"
   ]
  },
  {
   "cell_type": "code",
   "execution_count": 5,
   "id": "5ad9a770-3a04-4a7a-9d3b-0a82fea70feb",
   "metadata": {},
   "outputs": [
    {
     "name": "stdin",
     "output_type": "stream",
     "text": [
      "Enter a string:  afan\n"
     ]
    },
    {
     "name": "stdout",
     "output_type": "stream",
     "text": [
      "The length of the input string is: 4\n"
     ]
    }
   ],
   "source": [
    "# Get a string as input from the user\n",
    "input_string = input(\"Enter a string: \")\n",
    "\n",
    "# Calculate and print the length of the string\n",
    "string_length = len(input_string)\n",
    "print(\"The length of the input string is:\", string_length)\n"
   ]
  },
  {
   "cell_type": "code",
   "execution_count": 6,
   "id": "b5543c12-c625-421f-a3f8-d0cf976cae61",
   "metadata": {},
   "outputs": [
    {
     "name": "stdin",
     "output_type": "stream",
     "text": [
      "Enter a sentence:  fanna\n"
     ]
    },
    {
     "name": "stdout",
     "output_type": "stream",
     "text": [
      "The number of vowels in the sentence is: 2\n"
     ]
    }
   ],
   "source": [
    "# Get a sentence as input from the user\n",
    "sentence = input(\"Enter a sentence: \")\n",
    "\n",
    "# Initialize a variable to count the vowels\n",
    "vowel_count = 0\n",
    "\n",
    "# Convert the sentence to lowercase to handle both uppercase and lowercase vowels\n",
    "sentence = sentence.lower()\n",
    "\n",
    "# Iterate through each character in the sentence\n",
    "for char in sentence:\n",
    "    if char in \"aeiou\":\n",
    "        vowel_count += 1\n",
    "\n",
    "# Display the count of vowels in the sentence\n",
    "print(\"The number of vowels in the sentence is:\", vowel_count)\n"
   ]
  },
  {
   "cell_type": "code",
   "execution_count": null,
   "id": "de8521b5-7d77-4478-8975-b6662230b698",
   "metadata": {},
   "outputs": [],
   "source": []
  }
 ],
 "metadata": {
  "kernelspec": {
   "display_name": "Python 3 (ipykernel)",
   "language": "python",
   "name": "python3"
  },
  "language_info": {
   "codemirror_mode": {
    "name": "ipython",
    "version": 3
   },
   "file_extension": ".py",
   "mimetype": "text/x-python",
   "name": "python",
   "nbconvert_exporter": "python",
   "pygments_lexer": "ipython3",
   "version": "3.10.8"
  }
 },
 "nbformat": 4,
 "nbformat_minor": 5
}
